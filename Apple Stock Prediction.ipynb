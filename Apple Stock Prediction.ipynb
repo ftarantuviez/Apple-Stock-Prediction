{
 "cells": [
  {
   "cell_type": "code",
   "execution_count": 40,
   "metadata": {},
   "outputs": [],
   "source": [
    "import pandas as pd\n",
    "import numpy as np\n",
    "import matplotlib.pyplot as plt"
   ]
  },
  {
   "cell_type": "code",
   "execution_count": 2,
   "metadata": {},
   "outputs": [
    {
     "data": {
      "text/html": [
       "<div>\n",
       "<style scoped>\n",
       "    .dataframe tbody tr th:only-of-type {\n",
       "        vertical-align: middle;\n",
       "    }\n",
       "\n",
       "    .dataframe tbody tr th {\n",
       "        vertical-align: top;\n",
       "    }\n",
       "\n",
       "    .dataframe thead th {\n",
       "        text-align: right;\n",
       "    }\n",
       "</style>\n",
       "<table border=\"1\" class=\"dataframe\">\n",
       "  <thead>\n",
       "    <tr style=\"text-align: right;\">\n",
       "      <th></th>\n",
       "      <th>Date</th>\n",
       "      <th>Close/Last</th>\n",
       "      <th>Volume</th>\n",
       "      <th>Open</th>\n",
       "      <th>High</th>\n",
       "      <th>Low</th>\n",
       "    </tr>\n",
       "  </thead>\n",
       "  <tbody>\n",
       "    <tr>\n",
       "      <th>0</th>\n",
       "      <td>02/28/2020</td>\n",
       "      <td>$273.36</td>\n",
       "      <td>106721200</td>\n",
       "      <td>$257.26</td>\n",
       "      <td>$278.41</td>\n",
       "      <td>$256.37</td>\n",
       "    </tr>\n",
       "    <tr>\n",
       "      <th>1</th>\n",
       "      <td>02/27/2020</td>\n",
       "      <td>$273.52</td>\n",
       "      <td>80151380</td>\n",
       "      <td>$281.1</td>\n",
       "      <td>$286</td>\n",
       "      <td>$272.96</td>\n",
       "    </tr>\n",
       "    <tr>\n",
       "      <th>2</th>\n",
       "      <td>02/26/2020</td>\n",
       "      <td>$292.65</td>\n",
       "      <td>49678430</td>\n",
       "      <td>$286.53</td>\n",
       "      <td>$297.88</td>\n",
       "      <td>$286.5</td>\n",
       "    </tr>\n",
       "    <tr>\n",
       "      <th>3</th>\n",
       "      <td>02/25/2020</td>\n",
       "      <td>$288.08</td>\n",
       "      <td>57668360</td>\n",
       "      <td>$300.95</td>\n",
       "      <td>$302.53</td>\n",
       "      <td>$286.13</td>\n",
       "    </tr>\n",
       "    <tr>\n",
       "      <th>4</th>\n",
       "      <td>02/24/2020</td>\n",
       "      <td>$298.18</td>\n",
       "      <td>55548830</td>\n",
       "      <td>$297.26</td>\n",
       "      <td>$304.18</td>\n",
       "      <td>$289.23</td>\n",
       "    </tr>\n",
       "  </tbody>\n",
       "</table>\n",
       "</div>"
      ],
      "text/plain": [
       "         Date  Close/Last     Volume      Open      High       Low\n",
       "0  02/28/2020     $273.36  106721200   $257.26   $278.41   $256.37\n",
       "1  02/27/2020     $273.52   80151380    $281.1      $286   $272.96\n",
       "2  02/26/2020     $292.65   49678430   $286.53   $297.88    $286.5\n",
       "3  02/25/2020     $288.08   57668360   $300.95   $302.53   $286.13\n",
       "4  02/24/2020     $298.18   55548830   $297.26   $304.18   $289.23"
      ]
     },
     "execution_count": 2,
     "metadata": {},
     "output_type": "execute_result"
    }
   ],
   "source": [
    "df = pd.read_csv(\"datasets/dataset.csv\")\n",
    "df.head()"
   ]
  },
  {
   "cell_type": "code",
   "execution_count": 3,
   "metadata": {},
   "outputs": [
    {
     "data": {
      "text/plain": [
       "Date           object\n",
       " Close/Last    object\n",
       " Volume         int64\n",
       " Open          object\n",
       " High          object\n",
       " Low           object\n",
       "dtype: object"
      ]
     },
     "execution_count": 3,
     "metadata": {},
     "output_type": "execute_result"
    }
   ],
   "source": [
    "df.dtypes"
   ]
  },
  {
   "cell_type": "code",
   "execution_count": 4,
   "metadata": {},
   "outputs": [],
   "source": [
    "df.rename(columns={\"Date\": \"date\", \n",
    "                   \" Close/Last\": \"close\", \n",
    "                   \" Volume\": \"volume\", \n",
    "                   \" Open\": \"open\",\n",
    "                    \" High\": \"high\",\n",
    "                   \" Low\": \"low\"\n",
    "                  }, inplace=True)"
   ]
  },
  {
   "cell_type": "code",
   "execution_count": 5,
   "metadata": {},
   "outputs": [],
   "source": [
    "money_features = [\"close\", \"open\", \"high\", \"low\"]\n",
    "# normalize all the money data\n",
    "for feature in money_features:\n",
    "    df[feature] = df[feature].apply(\n",
    "        lambda x: float(x.split(\"$\")[1])).apply(lambda y: int(y))"
   ]
  },
  {
   "cell_type": "code",
   "execution_count": 6,
   "metadata": {},
   "outputs": [
    {
     "data": {
      "text/plain": [
       "array([False])"
      ]
     },
     "execution_count": 6,
     "metadata": {},
     "output_type": "execute_result"
    }
   ],
   "source": [
    "# there is not NaN values in all the dataset\n",
    "np.unique(df.isna())"
   ]
  },
  {
   "cell_type": "code",
   "execution_count": 7,
   "metadata": {},
   "outputs": [],
   "source": [
    "# handling date format\n",
    "df[\"date\"] = df[\"date\"].apply(lambda date: pd.Timestamp(date))"
   ]
  },
  {
   "cell_type": "code",
   "execution_count": 8,
   "metadata": {},
   "outputs": [
    {
     "data": {
      "text/html": [
       "<div>\n",
       "<style scoped>\n",
       "    .dataframe tbody tr th:only-of-type {\n",
       "        vertical-align: middle;\n",
       "    }\n",
       "\n",
       "    .dataframe tbody tr th {\n",
       "        vertical-align: top;\n",
       "    }\n",
       "\n",
       "    .dataframe thead th {\n",
       "        text-align: right;\n",
       "    }\n",
       "</style>\n",
       "<table border=\"1\" class=\"dataframe\">\n",
       "  <thead>\n",
       "    <tr style=\"text-align: right;\">\n",
       "      <th></th>\n",
       "      <th>date</th>\n",
       "      <th>close</th>\n",
       "      <th>volume</th>\n",
       "      <th>open</th>\n",
       "      <th>high</th>\n",
       "      <th>low</th>\n",
       "    </tr>\n",
       "  </thead>\n",
       "  <tbody>\n",
       "    <tr>\n",
       "      <th>0</th>\n",
       "      <td>2020-02-28</td>\n",
       "      <td>273</td>\n",
       "      <td>106721200</td>\n",
       "      <td>257</td>\n",
       "      <td>278</td>\n",
       "      <td>256</td>\n",
       "    </tr>\n",
       "    <tr>\n",
       "      <th>1</th>\n",
       "      <td>2020-02-27</td>\n",
       "      <td>273</td>\n",
       "      <td>80151380</td>\n",
       "      <td>281</td>\n",
       "      <td>286</td>\n",
       "      <td>272</td>\n",
       "    </tr>\n",
       "    <tr>\n",
       "      <th>2</th>\n",
       "      <td>2020-02-26</td>\n",
       "      <td>292</td>\n",
       "      <td>49678430</td>\n",
       "      <td>286</td>\n",
       "      <td>297</td>\n",
       "      <td>286</td>\n",
       "    </tr>\n",
       "    <tr>\n",
       "      <th>3</th>\n",
       "      <td>2020-02-25</td>\n",
       "      <td>288</td>\n",
       "      <td>57668360</td>\n",
       "      <td>300</td>\n",
       "      <td>302</td>\n",
       "      <td>286</td>\n",
       "    </tr>\n",
       "    <tr>\n",
       "      <th>4</th>\n",
       "      <td>2020-02-24</td>\n",
       "      <td>298</td>\n",
       "      <td>55548830</td>\n",
       "      <td>297</td>\n",
       "      <td>304</td>\n",
       "      <td>289</td>\n",
       "    </tr>\n",
       "  </tbody>\n",
       "</table>\n",
       "</div>"
      ],
      "text/plain": [
       "        date  close     volume  open  high  low\n",
       "0 2020-02-28    273  106721200   257   278  256\n",
       "1 2020-02-27    273   80151380   281   286  272\n",
       "2 2020-02-26    292   49678430   286   297  286\n",
       "3 2020-02-25    288   57668360   300   302  286\n",
       "4 2020-02-24    298   55548830   297   304  289"
      ]
     },
     "execution_count": 8,
     "metadata": {},
     "output_type": "execute_result"
    }
   ],
   "source": [
    "df.head()"
   ]
  },
  {
   "cell_type": "code",
   "execution_count": 9,
   "metadata": {},
   "outputs": [],
   "source": [
    "df[\"avg_price\"] = df.apply(lambda x: (x.high + x.low) // 2, axis=1)"
   ]
  },
  {
   "cell_type": "code",
   "execution_count": 10,
   "metadata": {},
   "outputs": [
    {
     "data": {
      "image/png": "[encoded data removed]",
      "text/plain": [
       "<Figure size 432x288 with 1 Axes>"
      ]
     },
     "metadata": {
      "needs_background": "light"
     },
     "output_type": "display_data"
    }
   ],
   "source": [
    "# plot highs and lows per day\n",
    "highs = df[\"high\"]\n",
    "lows = df[\"low\"]\n",
    "\n",
    "fig, ax = plt.subplots()\n",
    "\n",
    "ax.scatter(df[\"date\"], highs, s=1, marker=\"o\", label=\"highs\", c=\"r\")\n",
    "ax.scatter(df[\"date\"], lows, s=1, marker=\"v\", label=\"downs\", c=\"b\")\n",
    "ax.set_xlabel(\"Date\")\n",
    "ax.set_ylabel(\"Lows / Highs (prices)\")\n",
    "plt.legend();\n",
    "plt.show()"
   ]
  },
  {
   "cell_type": "code",
   "execution_count": 11,
   "metadata": {},
   "outputs": [
    {
     "data": {
      "image/png": "[encoded data removed]",
      "text/plain": [
       "<Figure size 432x288 with 1 Axes>"
      ]
     },
     "metadata": {
      "needs_background": "light"
     },
     "output_type": "display_data"
    }
   ],
   "source": [
    "# plot the average price in the day\n",
    "fig = plt.figure()\n",
    "ax1 = fig.add_subplot(111)\n",
    "ax1.scatter(df[\"date\"], df[\"avg_price\"], s=4)\n",
    "plt.show()"
   ]
  },
  {
   "cell_type": "code",
   "execution_count": 12,
   "metadata": {},
   "outputs": [],
   "source": [
    "from sklearn.preprocessing import StandardScaler, MinMaxScaler\n",
    "from sklearn.model_selection import train_test_split"
   ]
  },
  {
   "cell_type": "code",
   "execution_count": 13,
   "metadata": {},
   "outputs": [],
   "source": [
    "ss = StandardScaler()\n",
    "df[\"avg_price_std\"] = ss.fit_transform(df[[\"avg_price\"]])"
   ]
  },
  {
   "cell_type": "code",
   "execution_count": 14,
   "metadata": {},
   "outputs": [
    {
     "data": {
      "image/png": "[encoded data removed]",
      "text/plain": [
       "<Figure size 432x288 with 1 Axes>"
      ]
     },
     "metadata": {
      "needs_background": "light"
     },
     "output_type": "display_data"
    }
   ],
   "source": [
    "ax2 = plt.subplot(1,1,1)\n",
    "ax2.scatter(df[\"date\"], df[\"avg_price_std\"], s=3)\n",
    "plt.show()"
   ]
  },
  {
   "cell_type": "code",
   "execution_count": 15,
   "metadata": {},
   "outputs": [],
   "source": [
    "ss_vol = StandardScaler()\n",
    "df[\"volume_std\"] = ss_vol.fit_transform(df[[\"volume\"]])"
   ]
  },
  {
   "cell_type": "code",
   "execution_count": 16,
   "metadata": {},
   "outputs": [
    {
     "data": {
      "image/png": "[encoded data removed]",
      "text/plain": [
       "<Figure size 432x288 with 1 Axes>"
      ]
     },
     "metadata": {
      "needs_background": "light"
     },
     "output_type": "display_data"
    }
   ],
   "source": [
    "fig, ax = plt.subplots()\n",
    "ax.scatter(df[\"date\"], df[\"volume_std\"], s=3)\n",
    "plt.show()"
   ]
  },
  {
   "cell_type": "code",
   "execution_count": 17,
   "metadata": {},
   "outputs": [
    {
     "data": {
      "text/html": [
       "<div>\n",
       "<style scoped>\n",
       "    .dataframe tbody tr th:only-of-type {\n",
       "        vertical-align: middle;\n",
       "    }\n",
       "\n",
       "    .dataframe tbody tr th {\n",
       "        vertical-align: top;\n",
       "    }\n",
       "\n",
       "    .dataframe thead th {\n",
       "        text-align: right;\n",
       "    }\n",
       "</style>\n",
       "<table border=\"1\" class=\"dataframe\">\n",
       "  <thead>\n",
       "    <tr style=\"text-align: right;\">\n",
       "      <th></th>\n",
       "      <th>date</th>\n",
       "      <th>close</th>\n",
       "      <th>volume</th>\n",
       "      <th>open</th>\n",
       "      <th>high</th>\n",
       "      <th>low</th>\n",
       "      <th>avg_price</th>\n",
       "      <th>avg_price_std</th>\n",
       "      <th>volume_std</th>\n",
       "      <th>volume_mm</th>\n",
       "    </tr>\n",
       "  </thead>\n",
       "  <tbody>\n",
       "    <tr>\n",
       "      <th>0</th>\n",
       "      <td>2020-02-28</td>\n",
       "      <td>273</td>\n",
       "      <td>106721200</td>\n",
       "      <td>257</td>\n",
       "      <td>278</td>\n",
       "      <td>256</td>\n",
       "      <td>267</td>\n",
       "      <td>2.524091</td>\n",
       "      <td>0.602988</td>\n",
       "      <td>0.211402</td>\n",
       "    </tr>\n",
       "    <tr>\n",
       "      <th>1</th>\n",
       "      <td>2020-02-27</td>\n",
       "      <td>273</td>\n",
       "      <td>80151380</td>\n",
       "      <td>281</td>\n",
       "      <td>286</td>\n",
       "      <td>272</td>\n",
       "      <td>279</td>\n",
       "      <td>2.722015</td>\n",
       "      <td>0.133721</td>\n",
       "      <td>0.152499</td>\n",
       "    </tr>\n",
       "    <tr>\n",
       "      <th>2</th>\n",
       "      <td>2020-02-26</td>\n",
       "      <td>292</td>\n",
       "      <td>49678430</td>\n",
       "      <td>286</td>\n",
       "      <td>297</td>\n",
       "      <td>286</td>\n",
       "      <td>291</td>\n",
       "      <td>2.919939</td>\n",
       "      <td>-0.404481</td>\n",
       "      <td>0.084944</td>\n",
       "    </tr>\n",
       "    <tr>\n",
       "      <th>3</th>\n",
       "      <td>2020-02-25</td>\n",
       "      <td>288</td>\n",
       "      <td>57668360</td>\n",
       "      <td>300</td>\n",
       "      <td>302</td>\n",
       "      <td>286</td>\n",
       "      <td>294</td>\n",
       "      <td>2.969420</td>\n",
       "      <td>-0.263366</td>\n",
       "      <td>0.102656</td>\n",
       "    </tr>\n",
       "    <tr>\n",
       "      <th>4</th>\n",
       "      <td>2020-02-24</td>\n",
       "      <td>298</td>\n",
       "      <td>55548830</td>\n",
       "      <td>297</td>\n",
       "      <td>304</td>\n",
       "      <td>289</td>\n",
       "      <td>296</td>\n",
       "      <td>3.002407</td>\n",
       "      <td>-0.300800</td>\n",
       "      <td>0.097958</td>\n",
       "    </tr>\n",
       "  </tbody>\n",
       "</table>\n",
       "</div>"
      ],
      "text/plain": [
       "        date  close     volume  open  high  low  avg_price  avg_price_std  \\\n",
       "0 2020-02-28    273  106721200   257   278  256        267       2.524091   \n",
       "1 2020-02-27    273   80151380   281   286  272        279       2.722015   \n",
       "2 2020-02-26    292   49678430   286   297  286        291       2.919939   \n",
       "3 2020-02-25    288   57668360   300   302  286        294       2.969420   \n",
       "4 2020-02-24    298   55548830   297   304  289        296       3.002407   \n",
       "\n",
       "   volume_std  volume_mm  \n",
       "0    0.602988   0.211402  \n",
       "1    0.133721   0.152499  \n",
       "2   -0.404481   0.084944  \n",
       "3   -0.263366   0.102656  \n",
       "4   -0.300800   0.097958  "
      ]
     },
     "execution_count": 17,
     "metadata": {},
     "output_type": "execute_result"
    }
   ],
   "source": [
    "mm = MinMaxScaler()\n",
    "df[\"volume_mm\"] = mm.fit_transform(df[[\"volume\"]])\n",
    "df.head()"
   ]
  },
  {
   "cell_type": "code",
   "execution_count": 18,
   "metadata": {},
   "outputs": [
    {
     "data": {
      "image/png": "[encoded data removed]",
      "text/plain": [
       "<Figure size 432x288 with 1 Axes>"
      ]
     },
     "metadata": {
      "needs_background": "light"
     },
     "output_type": "display_data"
    }
   ],
   "source": [
    "fig, ax = plt.subplots()\n",
    "ax.scatter(df[\"date\"], df[\"volume_mm\"], s=3)\n",
    "plt.show()"
   ]
  },
  {
   "cell_type": "code",
   "execution_count": 19,
   "metadata": {},
   "outputs": [
    {
     "data": {
      "text/plain": [
       "Text(0.5, 1.0, 'Volume distribution')"
      ]
     },
     "execution_count": 19,
     "metadata": {},
     "output_type": "execute_result"
    },
    {
     "data": {
      "image/png": "[encoded data removed]",
      "text/plain": [
       "<Figure size 432x288 with 1 Axes>"
      ]
     },
     "metadata": {
      "needs_background": "light"
     },
     "output_type": "display_data"
    }
   ],
   "source": [
    "df.volume.hist(color=\"green\")\n",
    "plt.title(\"Volume distribution\")"
   ]
  },
  {
   "cell_type": "code",
   "execution_count": 20,
   "metadata": {},
   "outputs": [
    {
     "data": {
      "image/png": "[encoded data removed]",
      "text/plain": [
       "<Figure size 432x288 with 1 Axes>"
      ]
     },
     "metadata": {
      "needs_background": "light"
     },
     "output_type": "display_data"
    }
   ],
   "source": [
    "df.volume_std.hist(color=\"green\")\n",
    "plt.title(\"Volume Standard Distribution\")\n",
    "plt.yscale(\"log\")"
   ]
  },
  {
   "cell_type": "code",
   "execution_count": 21,
   "metadata": {},
   "outputs": [
    {
     "data": {
      "text/plain": [
       "Text(0.5, 1.0, 'Volume Standard')"
      ]
     },
     "execution_count": 21,
     "metadata": {},
     "output_type": "execute_result"
    },
    {
     "data": {
      "image/png": "[encoded data removed]",
      "text/plain": [
       "<Figure size 432x288 with 1 Axes>"
      ]
     },
     "metadata": {
      "needs_background": "light"
     },
     "output_type": "display_data"
    }
   ],
   "source": [
    "df[[\"volume_std\", \"avg_price_std\"]].plot.box()\n",
    "plt.title(\"Volume Standard\")"
   ]
  },
  {
   "cell_type": "code",
   "execution_count": 22,
   "metadata": {},
   "outputs": [
    {
     "data": {
      "image/png": "[encoded data removed]",
      "text/plain": [
       "<Figure size 432x288 with 1 Axes>"
      ]
     },
     "metadata": {},
     "output_type": "display_data"
    }
   ],
   "source": [
    "import seaborn as sns\n",
    "sns.set_theme(style=\"whitegrid\")\n",
    "ax = sns.boxplot(x=df[\"volume_std\"])"
   ]
  },
  {
   "cell_type": "code",
   "execution_count": 23,
   "metadata": {},
   "outputs": [
    {
     "data": {
      "text/html": [
       "<div>\n",
       "<style scoped>\n",
       "    .dataframe tbody tr th:only-of-type {\n",
       "        vertical-align: middle;\n",
       "    }\n",
       "\n",
       "    .dataframe tbody tr th {\n",
       "        vertical-align: top;\n",
       "    }\n",
       "\n",
       "    .dataframe thead th {\n",
       "        text-align: right;\n",
       "    }\n",
       "</style>\n",
       "<table border=\"1\" class=\"dataframe\">\n",
       "  <thead>\n",
       "    <tr style=\"text-align: right;\">\n",
       "      <th></th>\n",
       "      <th>date</th>\n",
       "      <th>close</th>\n",
       "      <th>volume</th>\n",
       "      <th>open</th>\n",
       "      <th>high</th>\n",
       "      <th>low</th>\n",
       "      <th>avg_price</th>\n",
       "      <th>avg_price_std</th>\n",
       "      <th>volume_std</th>\n",
       "      <th>volume_mm</th>\n",
       "      <th>volume_log</th>\n",
       "    </tr>\n",
       "  </thead>\n",
       "  <tbody>\n",
       "    <tr>\n",
       "      <th>0</th>\n",
       "      <td>2020-02-28</td>\n",
       "      <td>273</td>\n",
       "      <td>106721200</td>\n",
       "      <td>257</td>\n",
       "      <td>278</td>\n",
       "      <td>256</td>\n",
       "      <td>267</td>\n",
       "      <td>2.524091</td>\n",
       "      <td>0.602988</td>\n",
       "      <td>0.211402</td>\n",
       "      <td>18.485730</td>\n",
       "    </tr>\n",
       "    <tr>\n",
       "      <th>1</th>\n",
       "      <td>2020-02-27</td>\n",
       "      <td>273</td>\n",
       "      <td>80151380</td>\n",
       "      <td>281</td>\n",
       "      <td>286</td>\n",
       "      <td>272</td>\n",
       "      <td>279</td>\n",
       "      <td>2.722015</td>\n",
       "      <td>0.133721</td>\n",
       "      <td>0.152499</td>\n",
       "      <td>18.199428</td>\n",
       "    </tr>\n",
       "    <tr>\n",
       "      <th>2</th>\n",
       "      <td>2020-02-26</td>\n",
       "      <td>292</td>\n",
       "      <td>49678430</td>\n",
       "      <td>286</td>\n",
       "      <td>297</td>\n",
       "      <td>286</td>\n",
       "      <td>291</td>\n",
       "      <td>2.919939</td>\n",
       "      <td>-0.404481</td>\n",
       "      <td>0.084944</td>\n",
       "      <td>17.721081</td>\n",
       "    </tr>\n",
       "    <tr>\n",
       "      <th>3</th>\n",
       "      <td>2020-02-25</td>\n",
       "      <td>288</td>\n",
       "      <td>57668360</td>\n",
       "      <td>300</td>\n",
       "      <td>302</td>\n",
       "      <td>286</td>\n",
       "      <td>294</td>\n",
       "      <td>2.969420</td>\n",
       "      <td>-0.263366</td>\n",
       "      <td>0.102656</td>\n",
       "      <td>17.870219</td>\n",
       "    </tr>\n",
       "    <tr>\n",
       "      <th>4</th>\n",
       "      <td>2020-02-24</td>\n",
       "      <td>298</td>\n",
       "      <td>55548830</td>\n",
       "      <td>297</td>\n",
       "      <td>304</td>\n",
       "      <td>289</td>\n",
       "      <td>296</td>\n",
       "      <td>3.002407</td>\n",
       "      <td>-0.300800</td>\n",
       "      <td>0.097958</td>\n",
       "      <td>17.832773</td>\n",
       "    </tr>\n",
       "  </tbody>\n",
       "</table>\n",
       "</div>"
      ],
      "text/plain": [
       "        date  close     volume  open  high  low  avg_price  avg_price_std  \\\n",
       "0 2020-02-28    273  106721200   257   278  256        267       2.524091   \n",
       "1 2020-02-27    273   80151380   281   286  272        279       2.722015   \n",
       "2 2020-02-26    292   49678430   286   297  286        291       2.919939   \n",
       "3 2020-02-25    288   57668360   300   302  286        294       2.969420   \n",
       "4 2020-02-24    298   55548830   297   304  289        296       3.002407   \n",
       "\n",
       "   volume_std  volume_mm  volume_log  \n",
       "0    0.602988   0.211402   18.485730  \n",
       "1    0.133721   0.152499   18.199428  \n",
       "2   -0.404481   0.084944   17.721081  \n",
       "3   -0.263366   0.102656   17.870219  \n",
       "4   -0.300800   0.097958   17.832773  "
      ]
     },
     "execution_count": 23,
     "metadata": {},
     "output_type": "execute_result"
    }
   ],
   "source": [
    "df[\"volume_log\"] = np.log((1+df[\"volume\"]))\n",
    "df.head()"
   ]
  },
  {
   "cell_type": "code",
   "execution_count": 24,
   "metadata": {},
   "outputs": [
    {
     "data": {
      "text/plain": [
       "<AxesSubplot:ylabel='Frequency'>"
      ]
     },
     "execution_count": 24,
     "metadata": {},
     "output_type": "execute_result"
    },
    {
     "data": {
      "image/png": "[encoded data removed]",
      "text/plain": [
       "<Figure size 432x288 with 1 Axes>"
      ]
     },
     "metadata": {},
     "output_type": "display_data"
    }
   ],
   "source": [
    "df[\"volume_log\"].plot.hist()"
   ]
  },
  {
   "cell_type": "code",
   "execution_count": 25,
   "metadata": {},
   "outputs": [
    {
     "data": {
      "text/plain": [
       "<AxesSubplot:ylabel='Frequency'>"
      ]
     },
     "execution_count": 25,
     "metadata": {},
     "output_type": "execute_result"
    },
    {
     "data": {
      "image/png": "[encoded data removed]",
      "text/plain": [
       "<Figure size 432x288 with 1 Axes>"
      ]
     },
     "metadata": {},
     "output_type": "display_data"
    }
   ],
   "source": [
    "df[\"avg_price_log\"] = np.log((1+df[\"avg_price\"]))\n",
    "df[\"avg_price_log\"].plot.hist()"
   ]
  },
  {
   "cell_type": "code",
   "execution_count": 26,
   "metadata": {},
   "outputs": [
    {
     "data": {
      "text/plain": [
       "2019    252\n",
       "2015    252\n",
       "2013    252\n",
       "2011    252\n",
       "2016    252\n",
       "2014    252\n",
       "2017    251\n",
       "2018    251\n",
       "2012    250\n",
       "2010    214\n",
       "2020     40\n",
       "Name: year, dtype: int64"
      ]
     },
     "execution_count": 26,
     "metadata": {},
     "output_type": "execute_result"
    }
   ],
   "source": [
    "df[\"year\"] = df[\"date\"].apply(lambda d: d.year)\n",
    "df[\"year\"].value_counts()"
   ]
  },
  {
   "cell_type": "code",
   "execution_count": 27,
   "metadata": {},
   "outputs": [
    {
     "data": {
      "image/png": "[encoded data removed]",
      "text/plain": [
       "<Figure size 432x288 with 2 Axes>"
      ]
     },
     "metadata": {},
     "output_type": "display_data"
    }
   ],
   "source": [
    "fig, (ax1, ax2) = plt.subplots(1,2)\n",
    "ax1.scatter(df[\"year\"], df[\"avg_price_log\"], s=4, c=\"r\")\n",
    "ax1.set_ylabel(\"Log Scale Price\")\n",
    "ax1.set_xlabel(\"Year\")\n",
    "\n",
    "ax2.scatter(df[\"year\"], df[\"avg_price\"], s=4, c=\"b\", marker=\"<\")\n",
    "ax1.set_ylabel(\"Stock Price\")\n",
    "ax1.set_xlabel(\"Year\")\n",
    "plt.show()"
   ]
  },
  {
   "cell_type": "code",
   "execution_count": 28,
   "metadata": {},
   "outputs": [
    {
     "data": {
      "text/html": [
       "<div>\n",
       "<style scoped>\n",
       "    .dataframe tbody tr th:only-of-type {\n",
       "        vertical-align: middle;\n",
       "    }\n",
       "\n",
       "    .dataframe tbody tr th {\n",
       "        vertical-align: top;\n",
       "    }\n",
       "\n",
       "    .dataframe thead th {\n",
       "        text-align: right;\n",
       "    }\n",
       "</style>\n",
       "<table border=\"1\" class=\"dataframe\">\n",
       "  <thead>\n",
       "    <tr style=\"text-align: right;\">\n",
       "      <th></th>\n",
       "      <th>date</th>\n",
       "      <th>close</th>\n",
       "      <th>volume</th>\n",
       "      <th>open</th>\n",
       "      <th>high</th>\n",
       "      <th>low</th>\n",
       "      <th>avg_price</th>\n",
       "      <th>avg_price_std</th>\n",
       "      <th>volume_std</th>\n",
       "      <th>volume_mm</th>\n",
       "      <th>volume_log</th>\n",
       "      <th>avg_price_log</th>\n",
       "      <th>year</th>\n",
       "    </tr>\n",
       "  </thead>\n",
       "  <tbody>\n",
       "    <tr>\n",
       "      <th>0</th>\n",
       "      <td>2020-02-28</td>\n",
       "      <td>273</td>\n",
       "      <td>106721200</td>\n",
       "      <td>257</td>\n",
       "      <td>278</td>\n",
       "      <td>256</td>\n",
       "      <td>267</td>\n",
       "      <td>2.524091</td>\n",
       "      <td>0.602988</td>\n",
       "      <td>0.211402</td>\n",
       "      <td>18.485730</td>\n",
       "      <td>5.590987</td>\n",
       "      <td>2020</td>\n",
       "    </tr>\n",
       "    <tr>\n",
       "      <th>1</th>\n",
       "      <td>2020-02-27</td>\n",
       "      <td>273</td>\n",
       "      <td>80151380</td>\n",
       "      <td>281</td>\n",
       "      <td>286</td>\n",
       "      <td>272</td>\n",
       "      <td>279</td>\n",
       "      <td>2.722015</td>\n",
       "      <td>0.133721</td>\n",
       "      <td>0.152499</td>\n",
       "      <td>18.199428</td>\n",
       "      <td>5.634790</td>\n",
       "      <td>2020</td>\n",
       "    </tr>\n",
       "    <tr>\n",
       "      <th>2</th>\n",
       "      <td>2020-02-26</td>\n",
       "      <td>292</td>\n",
       "      <td>49678430</td>\n",
       "      <td>286</td>\n",
       "      <td>297</td>\n",
       "      <td>286</td>\n",
       "      <td>291</td>\n",
       "      <td>2.919939</td>\n",
       "      <td>-0.404481</td>\n",
       "      <td>0.084944</td>\n",
       "      <td>17.721081</td>\n",
       "      <td>5.676754</td>\n",
       "      <td>2020</td>\n",
       "    </tr>\n",
       "    <tr>\n",
       "      <th>3</th>\n",
       "      <td>2020-02-25</td>\n",
       "      <td>288</td>\n",
       "      <td>57668360</td>\n",
       "      <td>300</td>\n",
       "      <td>302</td>\n",
       "      <td>286</td>\n",
       "      <td>294</td>\n",
       "      <td>2.969420</td>\n",
       "      <td>-0.263366</td>\n",
       "      <td>0.102656</td>\n",
       "      <td>17.870219</td>\n",
       "      <td>5.686975</td>\n",
       "      <td>2020</td>\n",
       "    </tr>\n",
       "    <tr>\n",
       "      <th>4</th>\n",
       "      <td>2020-02-24</td>\n",
       "      <td>298</td>\n",
       "      <td>55548830</td>\n",
       "      <td>297</td>\n",
       "      <td>304</td>\n",
       "      <td>289</td>\n",
       "      <td>296</td>\n",
       "      <td>3.002407</td>\n",
       "      <td>-0.300800</td>\n",
       "      <td>0.097958</td>\n",
       "      <td>17.832773</td>\n",
       "      <td>5.693732</td>\n",
       "      <td>2020</td>\n",
       "    </tr>\n",
       "  </tbody>\n",
       "</table>\n",
       "</div>"
      ],
      "text/plain": [
       "        date  close     volume  open  high  low  avg_price  avg_price_std  \\\n",
       "0 2020-02-28    273  106721200   257   278  256        267       2.524091   \n",
       "1 2020-02-27    273   80151380   281   286  272        279       2.722015   \n",
       "2 2020-02-26    292   49678430   286   297  286        291       2.919939   \n",
       "3 2020-02-25    288   57668360   300   302  286        294       2.969420   \n",
       "4 2020-02-24    298   55548830   297   304  289        296       3.002407   \n",
       "\n",
       "   volume_std  volume_mm  volume_log  avg_price_log  year  \n",
       "0    0.602988   0.211402   18.485730       5.590987  2020  \n",
       "1    0.133721   0.152499   18.199428       5.634790  2020  \n",
       "2   -0.404481   0.084944   17.721081       5.676754  2020  \n",
       "3   -0.263366   0.102656   17.870219       5.686975  2020  \n",
       "4   -0.300800   0.097958   17.832773       5.693732  2020  "
      ]
     },
     "execution_count": 28,
     "metadata": {},
     "output_type": "execute_result"
    }
   ],
   "source": [
    "from sklearn.linear_model import LinearRegression\n",
    "from sklearn.model_selection import train_test_split\n",
    "from sklearn.metrics import mean_squared_error\n",
    "df.head()"
   ]
  },
  {
   "cell_type": "code",
   "execution_count": 29,
   "metadata": {},
   "outputs": [],
   "source": [
    "X = df[[\"volume\", \"close\", \"open\", \"high\", \"volume_std\", \"volume_mm\", \"volume_log\"]]\n",
    "y = df[[\"avg_price\"]]\n",
    "\n",
    "X_train, X_test, y_train, y_test = train_test_split(X,y, random_state=42, test_size=.3)"
   ]
  },
  {
   "cell_type": "code",
   "execution_count": 30,
   "metadata": {},
   "outputs": [
    {
     "data": {
      "text/plain": [
       "LinearRegression()"
      ]
     },
     "execution_count": 30,
     "metadata": {},
     "output_type": "execute_result"
    }
   ],
   "source": [
    "lr = LinearRegression()\n",
    "lr.fit(X_train, y_train)"
   ]
  },
  {
   "cell_type": "code",
   "execution_count": 31,
   "metadata": {},
   "outputs": [
    {
     "data": {
      "text/plain": [
       "array([[ 47.09521771],\n",
       "       [189.65842401],\n",
       "       [ 99.49637313],\n",
       "       [108.53373279],\n",
       "       [ 65.74662924]])"
      ]
     },
     "execution_count": 31,
     "metadata": {},
     "output_type": "execute_result"
    }
   ],
   "source": [
    "predictions = lr.predict(X_test)\n",
    "predictions[:5]"
   ]
  },
  {
   "cell_type": "code",
   "execution_count": 32,
   "metadata": {},
   "outputs": [
    {
     "data": {
      "text/plain": [
       "0.192439896932562"
      ]
     },
     "execution_count": 32,
     "metadata": {},
     "output_type": "execute_result"
    }
   ],
   "source": [
    "mean_squared_error(y_true=y_test, y_pred=predictions)"
   ]
  },
  {
   "cell_type": "code",
   "execution_count": 41,
   "metadata": {},
   "outputs": [],
   "source": [
    "from sklearn.pipeline import Pipeline\n",
    "from sklearn.preprocessing import PolynomialFeatures"
   ]
  },
  {
   "cell_type": "code",
   "execution_count": 42,
   "metadata": {},
   "outputs": [],
   "source": [
    "Input = [(\"standard_scaler\", StandardScaler()), (\"poly_feat\", PolynomialFeatures(degree=3)), (\"lr\", LinearRegression())]\n",
    "pipe=Pipeline(Input)"
   ]
  },
  {
   "cell_type": "code",
   "execution_count": 44,
   "metadata": {},
   "outputs": [
    {
     "data": {
      "text/plain": [
       "Pipeline(steps=[('standard_scaler', StandardScaler()),\n",
       "                ('poly_feat', PolynomialFeatures(degree=3)),\n",
       "                ('lr', LinearRegression())])"
      ]
     },
     "execution_count": 44,
     "metadata": {},
     "output_type": "execute_result"
    }
   ],
   "source": [
    "pipe.fit(X_train, y_train)"
   ]
  },
  {
   "cell_type": "code",
   "execution_count": 45,
   "metadata": {},
   "outputs": [],
   "source": [
    "predict_pipe = pipe.predict(X_test)"
   ]
  },
  {
   "cell_type": "code",
   "execution_count": 62,
   "metadata": {},
   "outputs": [
    {
     "data": {
      "text/plain": [
       "(0.18425293913280774, 0.9999429773246873)"
      ]
     },
     "execution_count": 62,
     "metadata": {},
     "output_type": "execute_result"
    }
   ],
   "source": [
    "mean_squared_error(y_true=y_test, y_pred=predict_pipe), pipe.score(X_test, y_test)"
   ]
  },
  {
   "cell_type": "code",
   "execution_count": 67,
   "metadata": {},
   "outputs": [],
   "source": [
    "def get_pipeline(x_train,y_train,x_test,y_test,degree):\n",
    "    Input = [(\"standard_scaler\", StandardScaler()), (\"poly_feat\", PolynomialFeatures(degree=degree)), (\"lr\", LinearRegression())]\n",
    "    pipeline = Pipeline(Input)\n",
    "    pipeline.fit(x_train, y_train)\n",
    "    \n",
    "    predictions = pipeline.predict(x_test)\n",
    "    \n",
    "    print(f'The R2 Score for a degree = {degree} is', pipeline.score(x_test, y_test))\n",
    "    print(f'The mean squared error with a degree of {degree} is', mean_squared_error(y_true=y_test, y_pred=predictions))\n",
    "    print('*'*30)"
   ]
  },
  {
   "cell_type": "code",
   "execution_count": 71,
   "metadata": {},
   "outputs": [
    {
     "name": "stdout",
     "output_type": "stream",
     "text": [
      "The R2 Score for a degree = 1 is 0.9999404436216236\n",
      "The mean squared error with a degree of 1 is 0.1924398969320176\n",
      "******************************\n",
      "The R2 Score for a degree = 2 is 0.9999494546826524\n",
      "The mean squared error with a degree of 2 is 0.16332315573809025\n",
      "******************************\n",
      "The R2 Score for a degree = 3 is 0.9999429773246873\n",
      "The mean squared error with a degree of 3 is 0.18425293913280774\n",
      "******************************\n",
      "The R2 Score for a degree = 4 is 0.999792945855369\n",
      "The mean squared error with a degree of 4 is 0.6690379660145594\n",
      "******************************\n"
     ]
    }
   ],
   "source": [
    "for i in range(1,5):\n",
    "    get_pipeline(X_train, y_train, X_test, y_test, i)"
   ]
  },
  {
   "cell_type": "code",
   "execution_count": 78,
   "metadata": {},
   "outputs": [
    {
     "data": {
      "text/html": [
       "<div>\n",
       "<style scoped>\n",
       "    .dataframe tbody tr th:only-of-type {\n",
       "        vertical-align: middle;\n",
       "    }\n",
       "\n",
       "    .dataframe tbody tr th {\n",
       "        vertical-align: top;\n",
       "    }\n",
       "\n",
       "    .dataframe thead th {\n",
       "        text-align: right;\n",
       "    }\n",
       "</style>\n",
       "<table border=\"1\" class=\"dataframe\">\n",
       "  <thead>\n",
       "    <tr style=\"text-align: right;\">\n",
       "      <th></th>\n",
       "      <th>close</th>\n",
       "      <th>volume</th>\n",
       "    </tr>\n",
       "  </thead>\n",
       "  <tbody>\n",
       "    <tr>\n",
       "      <th>close</th>\n",
       "      <td>1.000000</td>\n",
       "      <td>-0.608444</td>\n",
       "    </tr>\n",
       "    <tr>\n",
       "      <th>volume</th>\n",
       "      <td>-0.608444</td>\n",
       "      <td>1.000000</td>\n",
       "    </tr>\n",
       "  </tbody>\n",
       "</table>\n",
       "</div>"
      ],
      "text/plain": [
       "           close    volume\n",
       "close   1.000000 -0.608444\n",
       "volume -0.608444  1.000000"
      ]
     },
     "execution_count": 78,
     "metadata": {},
     "output_type": "execute_result"
    }
   ],
   "source": [
    "df[[\"close\", \"volume\"]].corr()"
   ]
  },
  {
   "cell_type": "code",
   "execution_count": 83,
   "metadata": {},
   "outputs": [
    {
     "name": "stderr",
     "output_type": "stream",
     "text": [
      "*c* argument looks like a single numeric RGB or RGBA sequence, which should be avoided as value-mapping will have precedence in case its length matches with *x* & *y*.  Please use the *color* keyword-argument or provide a 2-D array with a single row if you intend to specify the same RGB or RGBA value for all points.\n"
     ]
    },
    {
     "data": {
      "text/plain": [
       "<AxesSubplot:xlabel='close', ylabel='volume'>"
      ]
     },
     "execution_count": 83,
     "metadata": {},
     "output_type": "execute_result"
    },
    {
     "data": {
      "image/png": "[encoded data removed]",
      "text/plain": [
       "<Figure size 1440x720 with 1 Axes>"
      ]
     },
     "metadata": {},
     "output_type": "display_data"
    }
   ],
   "source": [
    "df[[\"close\", \"volume\"]].plot(x=\"close\", y=\"volume\", kind=\"scatter\", figsize=(20,10))"
   ]
  },
  {
   "cell_type": "code",
   "execution_count": null,
   "metadata": {},
   "outputs": [],
   "source": []
  }
 ],
 "metadata": {
  "kernelspec": {
   "display_name": "Python 3",
   "language": "python",
   "name": "python3"
  },
  "language_info": {
   "codemirror_mode": {
    "name": "ipython",
    "version": 3
   },
   "file_extension": ".py",
   "mimetype": "text/x-python",
   "name": "python",
   "nbconvert_exporter": "python",
   "pygments_lexer": "ipython3",
   "version": "3.8.5"
  }
 },
 "nbformat": 4,
 "nbformat_minor": 4
}
